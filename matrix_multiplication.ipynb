{
 "cells": [
  {
   "cell_type": "markdown",
   "id": "21b9844c-351d-4932-96c6-3dcedcc09840",
   "metadata": {},
   "source": [
    "# **Matrix-Multiplication** \n"
   ]
  },
  {
   "cell_type": "markdown",
   "id": "579807bf-6766-44e2-9c1f-724804102715",
   "metadata": {},
   "source": [
    "### 2D/3D matrix-multiplication using `python3`"
   ]
  },
  {
   "cell_type": "markdown",
   "id": "534b1e93-1c8d-49c8-9bba-5501714a1638",
   "metadata": {},
   "source": [
    "##### In linear algebra and machine learning, matrix multiplication is a fundamental concept. \n",
    "##### There are many ways to add **`+`** and multiply **`*`** matrices mathematically and programmatically. \n",
    "##### Here are some implementations purely using `python`."
   ]
  },
  {
   "cell_type": "code",
   "execution_count": null,
   "id": "b1c2ad91-a73c-46a9-8f49-d6e956409a29",
   "metadata": {},
   "outputs": [],
   "source": [
    "!pip install numpy"
   ]
  },
  {
   "cell_type": "code",
   "execution_count": null,
   "id": "ec5e5b2c-3a19-4842-95f8-69245d925444",
   "metadata": {},
   "outputs": [],
   "source": [
    "!pip install torch"
   ]
  },
  {
   "cell_type": "markdown",
   "id": "97267f2f-c0bf-49a6-aa21-915b29195c07",
   "metadata": {},
   "source": [
    "##### Import the **`numpy`** library. This is necessary for advanced computations and comprehensive mathematical functions."
   ]
  },
  {
   "cell_type": "code",
   "execution_count": null,
   "id": "8507ca0f-1c5f-4699-bdc9-7ca792631e32",
   "metadata": {},
   "outputs": [],
   "source": [
    "import numpy as np"
   ]
  },
  {
   "cell_type": "markdown",
   "id": "2eec400d-678a-4906-9fc4-5291e50d5e53",
   "metadata": {},
   "source": [
    "##### Import the **`PyTorch`** library. This is necessary because we will be using `torch` tensors to represent our matrices."
   ]
  },
  {
   "cell_type": "code",
   "execution_count": null,
   "id": "0f5dce91-8407-4641-9186-793d0d3d8aad",
   "metadata": {},
   "outputs": [],
   "source": [
    "import torch"
   ]
  },
  {
   "cell_type": "markdown",
   "id": "4faf8b42-e3a8-4ff7-ba97-281d15b56a05",
   "metadata": {},
   "source": [
    "##### **Below is a simple example of how to calculate the dot product of two matrices using `numpy` arrays.**\n",
    "\n",
    "The **`np.arange()`** function creates a one-dimensional array of evenly spaced values.\n",
    "The **`np.reshape()`** function reshapes a one-dimensional array into a multi-dimensional array with the specified dimensions.\n",
    "The **`np.dot()`** function calculates the dot product of two arrays."
   ]
  },
  {
   "cell_type": "code",
   "execution_count": null,
   "id": "540e41a6-49d4-48a8-a8ba-1f996ae76e43",
   "metadata": {},
   "outputs": [],
   "source": [
    "# Create matrices using np.arange and np.reshape which are two 3x3 matrices\n",
    "matrix_1 = np.arange(1,10).reshape(3,3)\n",
    "\n",
    "matrix_2 = np.arange(0,9).reshape(3,3)\n",
    "\n",
    "# Calculate the dot product of matrix_1 and matrix_2 using NumPy's dot function\n",
    "res = np.dot(matrix_1,matrix_2)\n",
    "\n",
    "# Print resulting matrix\n",
    "print(res)"
   ]
  },
  {
   "cell_type": "markdown",
   "id": "9f6f03cc-48ae-4ddc-b6e1-5a07caf21b11",
   "metadata": {},
   "source": [
    "##### You saw the first method which utilizes `numpy`, this next method involves using nested `for` loops. Use nested `for` loops to iterate through rows and columns of the matrices. The code uses three nested `for` loops to iterate through the rows and columns of `matrix_1` and `matrix_2`. For each row `i` in `matrix_1` and each column `j` in `matrix_2`, the code calculates the element at row `i` and column `j` of the result matrix `res`."
   ]
  },
  {
   "cell_type": "code",
   "execution_count": null,
   "id": "3fee6ce0-fe1b-46c7-a0fa-35de9d524911",
   "metadata": {},
   "outputs": [],
   "source": [
    "# Input two matrices and label them\n",
    "\n",
    "matrix_1 = [[1,2,3],\n",
    "            [4,5,6],\n",
    "            [7,8,9]]\n",
    "matrix_2 = [[0,1,2],\n",
    "            [3,4,5],\n",
    "            [6,7,8]]\n",
    "\n",
    "# Create an empty result matrix to store the multiplication result\n",
    "res = [[0 for x in range (3)] for y in range(3)]\n",
    "\n",
    "# Use nested for loops to iterate through rows and columns of the matrices\n",
    "for i in range(len(matrix_1)):\n",
    "    for j in range(len(matrix_2[0])):\n",
    "        for k in range(len(matrix_2)):\n",
    "\n",
    "            # Calculate the element at row 'i' and column 'j' of the result matrix\n",
    "            res[i][j] += matrix_1[i][k] * matrix_2[k][j]\n",
    "\n",
    "# Print the resulting matrix\n",
    "print(res)"
   ]
  },
  {
   "cell_type": "markdown",
   "id": "c613fdb0-adea-41dc-9a87-b3b90381dba5",
   "metadata": {},
   "source": [
    "##### **Here is another method that utilizes `pytorch` a deep learning library commonly used by ML practitioners.**\n",
    "\n",
    "Tensors in `torch` can be scalars, vectors, and matrices. The dot product of two matrices is a scalar value that is calculated by multiplying the corresponding elements of each matrix and adding the products together. The dot product is a useful operation in many different machine learning applications, such as ***linear regression***, ***classification***, and ***natural language processing***."
   ]
  },
  {
   "cell_type": "code",
   "execution_count": null,
   "id": "3629f5bf-dbd9-42ee-ab64-b96f8069ec59",
   "metadata": {},
   "outputs": [],
   "source": [
    "# Define two matrices as PyTorch tensors\n",
    "\n",
    "matrix_1 = torch.tensor([[1,2,3],\n",
    "                        [4,5,6],\n",
    "                        [7,8,9]])\n",
    "\n",
    "matrix_2 = torch.tensor([[0,1,2],\n",
    "                        [3,4,5],\n",
    "                        [6,7,8]])\n",
    "\n",
    "# Calculate the dot product of matrix_1 and matrix_2 using .matmul()\n",
    "product = torch.matmul(matrix_1, matrix_2)\n",
    "\n",
    "# Print resulting matrix\n",
    "print(product)"
   ]
  }
 ],
 "metadata": {
  "kernelspec": {
   "display_name": "Python 3 (ipykernel)",
   "language": "python",
   "name": "python3"
  },
  "language_info": {
   "codemirror_mode": {
    "name": "ipython",
    "version": 3
   },
   "file_extension": ".py",
   "mimetype": "text/x-python",
   "name": "python",
   "nbconvert_exporter": "python",
   "pygments_lexer": "ipython3",
   "version": "3.10.6"
  }
 },
 "nbformat": 4,
 "nbformat_minor": 5
}
