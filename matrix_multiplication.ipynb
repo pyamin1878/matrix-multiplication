{
 "cells": [
  {
   "cell_type": "markdown",
   "id": "21b9844c-351d-4932-96c6-3dcedcc09840",
   "metadata": {},
   "source": [
    "# **Matrix-Multiplication** \n"
   ]
  },
  {
   "cell_type": "markdown",
   "id": "579807bf-6766-44e2-9c1f-724804102715",
   "metadata": {},
   "source": [
    "### 2D/3D matrix-multiplication using `python3`"
   ]
  },
  {
   "cell_type": "markdown",
   "id": "534b1e93-1c8d-49c8-9bba-5501714a1638",
   "metadata": {},
   "source": [
    "##### In linear algebra and machine learning, matrix multiplication is a fundamental concept. \n",
    "##### There are many ways to add **`+`** and multiply **`*`** matrices mathematically and programmatically. \n",
    "##### Here are some implementations purely using `python`."
   ]
  },
  {
   "cell_type": "code",
   "execution_count": 1,
   "id": "b1c2ad91-a73c-46a9-8f49-d6e956409a29",
   "metadata": {},
   "outputs": [
    {
     "name": "stdout",
     "output_type": "stream",
     "text": [
      "Requirement already satisfied: numpy in ./venv/lib/python3.10/site-packages (1.26.0)\n"
     ]
    }
   ],
   "source": [
    "!pip install numpy"
   ]
  },
  {
   "cell_type": "code",
   "execution_count": 2,
   "id": "ec5e5b2c-3a19-4842-95f8-69245d925444",
   "metadata": {},
   "outputs": [
    {
     "name": "stdout",
     "output_type": "stream",
     "text": [
      "Requirement already satisfied: torch in ./venv/lib/python3.10/site-packages (2.0.1)\n",
      "Requirement already satisfied: filelock in ./venv/lib/python3.10/site-packages (from torch) (3.12.4)\n",
      "Requirement already satisfied: typing-extensions in ./venv/lib/python3.10/site-packages (from torch) (4.8.0)\n",
      "Requirement already satisfied: sympy in ./venv/lib/python3.10/site-packages (from torch) (1.12)\n",
      "Requirement already satisfied: networkx in ./venv/lib/python3.10/site-packages (from torch) (3.1)\n",
      "Requirement already satisfied: jinja2 in ./venv/lib/python3.10/site-packages (from torch) (3.1.2)\n",
      "Requirement already satisfied: nvidia-cuda-nvrtc-cu11==11.7.99 in ./venv/lib/python3.10/site-packages (from torch) (11.7.99)\n",
      "Requirement already satisfied: nvidia-cuda-runtime-cu11==11.7.99 in ./venv/lib/python3.10/site-packages (from torch) (11.7.99)\n",
      "Requirement already satisfied: nvidia-cuda-cupti-cu11==11.7.101 in ./venv/lib/python3.10/site-packages (from torch) (11.7.101)\n",
      "Requirement already satisfied: nvidia-cudnn-cu11==8.5.0.96 in ./venv/lib/python3.10/site-packages (from torch) (8.5.0.96)\n",
      "Requirement already satisfied: nvidia-cublas-cu11==11.10.3.66 in ./venv/lib/python3.10/site-packages (from torch) (11.10.3.66)\n",
      "Requirement already satisfied: nvidia-cufft-cu11==10.9.0.58 in ./venv/lib/python3.10/site-packages (from torch) (10.9.0.58)\n",
      "Requirement already satisfied: nvidia-curand-cu11==10.2.10.91 in ./venv/lib/python3.10/site-packages (from torch) (10.2.10.91)\n",
      "Requirement already satisfied: nvidia-cusolver-cu11==11.4.0.1 in ./venv/lib/python3.10/site-packages (from torch) (11.4.0.1)\n",
      "Requirement already satisfied: nvidia-cusparse-cu11==11.7.4.91 in ./venv/lib/python3.10/site-packages (from torch) (11.7.4.91)\n",
      "Requirement already satisfied: nvidia-nccl-cu11==2.14.3 in ./venv/lib/python3.10/site-packages (from torch) (2.14.3)\n",
      "Requirement already satisfied: nvidia-nvtx-cu11==11.7.91 in ./venv/lib/python3.10/site-packages (from torch) (11.7.91)\n",
      "Requirement already satisfied: triton==2.0.0 in ./venv/lib/python3.10/site-packages (from torch) (2.0.0)\n",
      "Requirement already satisfied: setuptools in ./venv/lib/python3.10/site-packages (from nvidia-cublas-cu11==11.10.3.66->torch) (63.2.0)\n",
      "Requirement already satisfied: wheel in ./venv/lib/python3.10/site-packages (from nvidia-cublas-cu11==11.10.3.66->torch) (0.41.2)\n",
      "Requirement already satisfied: cmake in ./venv/lib/python3.10/site-packages (from triton==2.0.0->torch) (3.27.5)\n",
      "Requirement already satisfied: lit in ./venv/lib/python3.10/site-packages (from triton==2.0.0->torch) (17.0.1)\n",
      "Requirement already satisfied: MarkupSafe>=2.0 in ./venv/lib/python3.10/site-packages (from jinja2->torch) (2.1.3)\n",
      "Requirement already satisfied: mpmath>=0.19 in ./venv/lib/python3.10/site-packages (from sympy->torch) (1.3.0)\n"
     ]
    }
   ],
   "source": [
    "!pip install torch"
   ]
  },
  {
   "cell_type": "code",
   "execution_count": 3,
   "id": "33b92d3d-49e9-4084-8140-d4c4fb02e232",
   "metadata": {},
   "outputs": [
    {
     "name": "stdout",
     "output_type": "stream",
     "text": [
      "Requirement already satisfied: matplotlib in ./venv/lib/python3.10/site-packages (3.8.0)\n",
      "Requirement already satisfied: contourpy>=1.0.1 in ./venv/lib/python3.10/site-packages (from matplotlib) (1.1.1)\n",
      "Requirement already satisfied: cycler>=0.10 in ./venv/lib/python3.10/site-packages (from matplotlib) (0.12.0)\n",
      "Requirement already satisfied: fonttools>=4.22.0 in ./venv/lib/python3.10/site-packages (from matplotlib) (4.43.0)\n",
      "Requirement already satisfied: kiwisolver>=1.0.1 in ./venv/lib/python3.10/site-packages (from matplotlib) (1.4.5)\n",
      "Requirement already satisfied: numpy<2,>=1.21 in ./venv/lib/python3.10/site-packages (from matplotlib) (1.26.0)\n",
      "Requirement already satisfied: packaging>=20.0 in ./venv/lib/python3.10/site-packages (from matplotlib) (23.1)\n",
      "Requirement already satisfied: pillow>=6.2.0 in ./venv/lib/python3.10/site-packages (from matplotlib) (10.0.1)\n",
      "Requirement already satisfied: pyparsing>=2.3.1 in ./venv/lib/python3.10/site-packages (from matplotlib) (3.1.1)\n",
      "Requirement already satisfied: python-dateutil>=2.7 in ./venv/lib/python3.10/site-packages (from matplotlib) (2.8.2)\n",
      "Requirement already satisfied: six>=1.5 in ./venv/lib/python3.10/site-packages (from python-dateutil>=2.7->matplotlib) (1.16.0)\n"
     ]
    }
   ],
   "source": [
    "!pip install matplotlib"
   ]
  },
  {
   "cell_type": "markdown",
   "id": "97267f2f-c0bf-49a6-aa21-915b29195c07",
   "metadata": {},
   "source": [
    "##### Import the **`numpy`** library. This is necessary for advanced computations and comprehensive mathematical functions."
   ]
  },
  {
   "cell_type": "code",
   "execution_count": 4,
   "id": "8507ca0f-1c5f-4699-bdc9-7ca792631e32",
   "metadata": {},
   "outputs": [],
   "source": [
    "import numpy as np"
   ]
  },
  {
   "cell_type": "markdown",
   "id": "2eec400d-678a-4906-9fc4-5291e50d5e53",
   "metadata": {},
   "source": [
    "##### Import the **`PyTorch`** library. This is necessary because we will be using `torch` tensors to represent our matrices."
   ]
  },
  {
   "cell_type": "code",
   "execution_count": 5,
   "id": "0f5dce91-8407-4641-9186-793d0d3d8aad",
   "metadata": {},
   "outputs": [],
   "source": [
    "import torch"
   ]
  },
  {
   "cell_type": "markdown",
   "id": "09274cc2-5801-4480-8b8d-a00c23bcebca",
   "metadata": {},
   "source": [
    "Import  the `matplotlib` library to visualize matrices"
   ]
  },
  {
   "cell_type": "code",
   "execution_count": 6,
   "id": "287d3411-51b3-4e8a-859d-bf69fe22066e",
   "metadata": {},
   "outputs": [],
   "source": [
    "# Import matplotlib\n",
    "import matplotlib.pyplot as plt\n",
    "%matplotlib inline "
   ]
  },
  {
   "cell_type": "markdown",
   "id": "4faf8b42-e3a8-4ff7-ba97-281d15b56a05",
   "metadata": {},
   "source": [
    "##### **Below is a simple example of how to calculate the dot product of two matrices using `numpy` arrays.**\n",
    "\n",
    "The **`np.arange()`** function creates a one-dimensional array of evenly spaced values.\n",
    "The **`np.reshape()`** function reshapes a one-dimensional array into a multi-dimensional array with the specified dimensions.\n",
    "The **`np.dot()`** function calculates the dot product of two arrays."
   ]
  },
  {
   "cell_type": "code",
   "execution_count": 16,
   "id": "540e41a6-49d4-48a8-a8ba-1f996ae76e43",
   "metadata": {},
   "outputs": [
    {
     "name": "stdout",
     "output_type": "stream",
     "text": [
      "Result of matrix multiplication: [[ 50 110  70]\n",
      " [ 28  54  53]\n",
      " [ 86 112  89]]\n"
     ]
    }
   ],
   "source": [
    "# Import numpy for matrix operations\n",
    "\n",
    "import numpy as np\n",
    "\n",
    "def get_user_matrix(dimensions_prompt, elements_prompt):\n",
    "    \"\"\"\n",
    "    Get a matrix from the user based on provided prompts for dimensions and elements.\n",
    "    \"\"\"\n",
    "    rows, cols = map(int, input(dimensions_prompt).split())\n",
    "    matrix = [list(map(int, input().split())) for _ in range(rows)]\n",
    "    return np.array(matrix)\n",
    "\n",
    "def generate_random_matrix(rows, cols, min_val=0, max_val=10):\n",
    "    \"\"\"\n",
    "    Generate a random matrix with given dimensions and element value range.\n",
    "    \"\"\"\n",
    "    return np.random.randint(min_val, max_val+1, (rows, cols))\n",
    "\n",
    "# Main Function\n",
    "\n",
    "def matrix_multiply_numpy(matrix_1, matrix_2):\n",
    "    \"\"\"\n",
    "    Multiply two matrices using numpy's dot function.\n",
    "    \"\"\"\n",
    "    if matrix_1.shape[1] != matrix_2.shape[0]:\n",
    "        return \"Matrices cannot be multiplied due to incompatible dimensions.\"\n",
    "    return np.dot(matrix_1, matrix_2)\n",
    "\n",
    "def matrix_multiply_extended(option=\"random\", matrix_1=None, matrix_2=None):\n",
    "    \"\"\"\n",
    "    Multiply two matrices either manually entered, randomly generated, or provided.\n",
    "    \"\"\"\n",
    "    if option == \"manual\":\n",
    "        matrix_1 = get_user_matrix(\"Enter dimensions for Matrix 1: \", \"Enter elements for Matrix 1: \")\n",
    "        matrix_2 = get_user_matrix(\"Enter dimensions for Matrix 2: \", \"Enter elements for Matrix 2: \")\n",
    "    elif option == \"random\":\n",
    "        rows_1, cols_1 = 3, 3  # Modify as needed\n",
    "        rows_2, cols_2 = 3, 3  # Modify as needed\n",
    "        matrix_1 = generate_random_matrix(rows_1, cols_1)\n",
    "        matrix_2 = generate_random_matrix(rows_2, cols_2)\n",
    "    return matrix_multiply_numpy(matrix_1, matrix_2)\n",
    "\n",
    "# Example usage (comment/uncomment for testing user inputs vs random)\n",
    "result = matrix_multiply_extended(option=\"random\")\n",
    "print(\"Result of matrix multiplication:\", result)"
   ]
  },
  {
   "cell_type": "markdown",
   "id": "9f6f03cc-48ae-4ddc-b6e1-5a07caf21b11",
   "metadata": {},
   "source": [
    "##### You saw the first and quickest method which utilizes `numpy`, this next method involves using nested `for` loops. Use nested `for` loops to iterate through rows and columns of the matrices. The code uses three nested `for` loops to iterate through the rows and columns of `matrix_1` and `matrix_2`. For each row `i` in `matrix_1` and each column `j` in `matrix_2`, the code calculates the element at row `i` and column `j` of the result matrix `res`."
   ]
  },
  {
   "cell_type": "code",
   "execution_count": 19,
   "id": "3fee6ce0-fe1b-46c7-a0fa-35de9d524911",
   "metadata": {},
   "outputs": [
    {
     "name": "stdout",
     "output_type": "stream",
     "text": [
      "Resulting matrix: [[24, 30, 36], [51, 66, 81], [78, 102, 126]]\n"
     ]
    }
   ],
   "source": [
    "def matrix_multiply_nested_loops(matrix_1, matrix_2):\n",
    "    # Get dimensions of the input matrices\n",
    "    rows_1, cols_1 = len(matrix_1), len(matrix_1[0])\n",
    "    rows_2, cols_2 = len(matrix_2), len(matrix_2[0])\n",
    "\n",
    "    # Check if the matrices can be multiplied\n",
    "    if cols_1 != rows_2:\n",
    "        return \"Matrix dimensions do not match\"\n",
    "\n",
    "    # Create an empty result matrix\n",
    "    res = [[0 for x in range(cols_2)] for y in range(rows_1)]\n",
    "\n",
    "    # Use nested for loops to iterate through rows and columns of the matrices\n",
    "    for i in range(rows_1):\n",
    "        for j in range(cols_2):\n",
    "            for k in range(rows_2):\n",
    "                # Calculate the element at row 'i' and column 'j'\n",
    "                res[i][j] += matrix_1[i][k] * matrix_2[k][j]\n",
    "    \n",
    "    return res\n",
    "\n",
    "# Test the function\n",
    "matrix_1 = [\n",
    "    [1, 2, 3],\n",
    "    [4, 5, 6],\n",
    "    [7, 8, 9]\n",
    "]\n",
    "\n",
    "matrix_2 = [\n",
    "    [0, 1, 2],\n",
    "    [3, 4, 5],\n",
    "    [6, 7, 8]\n",
    "]\n",
    "\n",
    "res = matrix_multiply_nested_loops(matrix_1, matrix_2)\n",
    "print(\"Resulting matrix:\", res)"
   ]
  },
  {
   "cell_type": "code",
   "execution_count": 36,
   "id": "64fb5fb6-8735-4bd8-b6d6-bdc7fe1f5bdd",
   "metadata": {},
   "outputs": [
    {
     "data": {
      "image/png": "[encoded data removed]",
      "text/plain": [
       "<Figure size 1500x500 with 3 Axes>"
      ]
     },
     "metadata": {},
     "output_type": "display_data"
    }
   ],
   "source": [
    "# Function to visualize matrices side-by-side using Matplotlib\n",
    "def visualize_matrices_side_by_side(matrices, titles):\n",
    "    fig, axs = plt.subplots(1, len(matrices), figsize=(15, 5))\n",
    "    \n",
    "    for ax, matrix, title in zip(axs, matrices, titles):\n",
    "        cax = ax.matshow(matrix, cmap='tab20')\n",
    "        \n",
    "        # Illustrate numerical value in each cell\n",
    "        for i in range(matrix.shape[0]):\n",
    "            for j in range(matrix.shape[1]):\n",
    "                c = matrix[i, j]\n",
    "                ax.text(j, i, str(c), va='center', ha='center', color='white')\n",
    "        \n",
    "        ax.set_title(title)\n",
    "    \n",
    "    plt.show()\n",
    "\n",
    "# Visualize the matrices side-by-side\n",
    "visualize_matrices_side_by_side([matrix_1_np, matrix_2_np, result_np], \n",
    "                                [\"Matrix 1\", \"Matrix 2\", \"Result Matrix\"])\n",
    "\n"
   ]
  },
  {
   "cell_type": "markdown",
   "id": "c613fdb0-adea-41dc-9a87-b3b90381dba5",
   "metadata": {},
   "source": [
    "##### **Here is another method that utilizes `pytorch` a deep learning library commonly used by ML practitioners.**\n",
    "\n",
    "Tensors in `torch` can be scalars, vectors, and matrices. The dot product of two matrices is a scalar value that is calculated by multiplying the corresponding elements of each matrix and adding the products together. The dot product is a useful operation in many different machine learning applications, such as ***linear regression***, ***classification***, and ***natural language processing***."
   ]
  },
  {
   "cell_type": "code",
   "execution_count": null,
   "id": "3629f5bf-dbd9-42ee-ab64-b96f8069ec59",
   "metadata": {},
   "outputs": [],
   "source": [
    "# Define two matrices as PyTorch tensors\n",
    "\n",
    "matrix_1 = torch.tensor([[1,2,3],\n",
    "                        [4,5,6],\n",
    "                        [7,8,9]])\n",
    "\n",
    "matrix_2 = torch.tensor([[0,1,2],\n",
    "                        [3,4,5],\n",
    "                        [6,7,8]])\n",
    "\n",
    "# Calculate the dot product of matrix_1 and matrix_2 using .matmul()\n",
    "product = torch.matmul(matrix_1, matrix_2)\n",
    "\n",
    "# Print resulting matrix\n",
    "print(product)"
   ]
  }
 ],
 "metadata": {
  "kernelspec": {
   "display_name": "Python 3 (ipykernel)",
   "language": "python",
   "name": "python3"
  },
  "language_info": {
   "codemirror_mode": {
    "name": "ipython",
    "version": 3
   },
   "file_extension": ".py",
   "mimetype": "text/x-python",
   "name": "python",
   "nbconvert_exporter": "python",
   "pygments_lexer": "ipython3",
   "version": "3.10.6"
  }
 },
 "nbformat": 4,
 "nbformat_minor": 5
}
